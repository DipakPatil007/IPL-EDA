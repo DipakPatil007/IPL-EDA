{
  "nbformat": 4,
  "nbformat_minor": 0,
  "metadata": {
    "colab": {
      "name": "MiniPoject1.ipynb",
      "provenance": [],
      "collapsed_sections": []
    },
    "kernelspec": {
      "name": "python3",
      "display_name": "Python 3"
    },
    "language_info": {
      "name": "python"
    }
  },
  "cells": [
    {
      "cell_type": "code",
      "execution_count": null,
      "metadata": {
        "id": "6zw-PHSOc4UA"
      },
      "outputs": [],
      "source": [
        "# sentimental analysis of twitter data \n",
        "# tweepy library is use to get the twitter api through developer.twitter.com\n",
        "import tweepy\n",
        "# textblob library for performing analysis with tweets\n",
        "from textblob import TextBlob"
      ]
    },
    {
      "cell_type": "code",
      "source": [
        "# this are keys for acessing twitter api \n",
        "consumer_key = \"Gsy4UGBGblKLS8MHB6R28prFP\"\n",
        "consumer_key_secret = \"8x9OS7GLwLa9QUvKQJ6AIvTh6Ajmc34ecE9ptOPWycUZ2l09Ia\"\n",
        "\n",
        "access_token =\"1483718735135649795-kf2d1e8hEtbVzcwLEdDSupTFsciycg\"\n",
        "access_token_secret = \"Z7zsiiWkU6DVfKXcnOBcf885bMwfg22EIV9mgGM56ZdYM\"\n"
      ],
      "metadata": {
        "id": "eAt5yI6HexSO"
      },
      "execution_count": null,
      "outputs": []
    },
    {
      "cell_type": "code",
      "source": [
        "# authanticate through OAuthHandler()\n",
        "auth = tweepy.OAuthHandler(consumer_key,consumer_key_secret)\n",
        "auth.set_access_token(access_token,access_token_secret)\n",
        "\n",
        "# establishing connection with twitter\n",
        "api = tweepy.API(auth)"
      ],
      "metadata": {
        "id": "AmXF1okke0Vv"
      },
      "execution_count": null,
      "outputs": []
    },
    {
      "cell_type": "code",
      "source": [
        "print(api)"
      ],
      "metadata": {
        "colab": {
          "base_uri": "https://localhost:8080/"
        },
        "id": "8VyXNKv2t4Ty",
        "outputId": "27d0d15e-361f-4592-d0c9-abb1e3bc729d"
      },
      "execution_count": 65,
      "outputs": [
        {
          "output_type": "stream",
          "name": "stdout",
          "text": [
            "<tweepy.api.API object at 0x7f521c006b50>\n"
          ]
        }
      ]
    },
    {
      "cell_type": "code",
      "source": [
        "# tweet \n",
        "tweet = api.search(\"hollywood\",count = 10)"
      ],
      "metadata": {
        "id": "B3KmPOW4e2mv"
      },
      "execution_count": 41,
      "outputs": []
    },
    {
      "cell_type": "code",
      "source": [
        "\n",
        "# # declaring variables for stroring +ve,-ve and neutral tweet\n",
        "\n",
        "countOfTweet = {\n",
        "    'positive' : 0,\n",
        "    'negative' : 0,\n",
        "    'neutral' : 0\n",
        "}\n",
        "\n",
        "# traversing the tweet and print all tweet\n",
        "for i in tweet:\n",
        "    print(i.text)\n",
        "\n",
        "    # TextBlob is use to find polarity and subjectivity of tweet and on the basis of polarity \n",
        "    # we can analysis positive ,negative and neutral tweet\n",
        "    ana = TextBlob(i.text)\n",
        "    print(ana.sentiment)\n",
        "    if (ana.sentiment[0] > 0):\n",
        "        print(\"Positive \")\n",
        "        countOfTweet['positive'] = countOfTweet['positive'] + 1\n",
        "    elif (ana.sentiment[0] < 0):\n",
        "        print(\"Negative \")\n",
        "        countOfTweet['negative'] = countOfTweet['negative'] + 1\n",
        "    else :\n",
        "        print(\"Neutral\")\n",
        "        countOfTweet['neutral'] = countOfTweet['neutral'] + 1"
      ],
      "metadata": {
        "colab": {
          "base_uri": "https://localhost:8080/"
        },
        "id": "2bLLLvaCfA7l",
        "outputId": "352f3fcd-e7b3-4b4f-d603-7a8451e2d681"
      },
      "execution_count": 57,
      "outputs": [
        {
          "output_type": "stream",
          "name": "stdout",
          "text": [
            "RT @PurpleReignEra: WHAT THE FUCKING FUCK BRO! WE TRADED AWAY HOLLYWOOD💔💔💔💔💔💔💔\n",
            "Sentiment(polarity=-0.5, subjectivity=0.6)\n",
            "Negative \n",
            "RT @danpompei: In an offseason when Tyreek Hill, A.J. Brown, Hollywood Brown, Amari Cooper, Robert Woods, Allen Robinson and others changed…\n",
            "Sentiment(polarity=0.0, subjectivity=0.0)\n",
            "Neutral\n",
            "RT @YodhaAkkians: A glimpse into the world of #RamSetu.\n",
            "\n",
            "In cinemas Diwali, 2022. \n",
            "\n",
            "Can't Wait #RamSetu 😍🔥 Kya kamaal ka glimpse hai @aksha…\n",
            "Sentiment(polarity=0.0, subjectivity=0.0)\n",
            "Neutral\n",
            "RT @Schultz_Report: Breaking: #Ravens traded Hollywood Brown and a 3 to the #Cardinals for pick 23, per source.\n",
            "Sentiment(polarity=0.0, subjectivity=0.0)\n",
            "Neutral\n",
            "😬 An influential Hollywood executive used his speech at a Simon Wiesenthal Center gala to criticize actor Will Smit… https://t.co/MiS7aXzT2f\n",
            "Sentiment(polarity=-0.1, subjectivity=0.1)\n",
            "Negative \n",
            "RT @MikeGarafolo: The #Ravens are trading Hollywood Brown to the #AzCardinals.\n",
            "Sentiment(polarity=0.0, subjectivity=0.0)\n",
            "Neutral\n",
            "RT @Kaar_the_k_n_r_: Anirudh deii... D oda Hollywood FL ku orru Rt, Like or wish edhumae pannala...\n",
            "\n",
            "Mathathu RT adika matum time irruku po…\n",
            "Sentiment(polarity=0.0, subjectivity=0.0)\n",
            "Neutral\n",
            "RT @PFF: Hollywood Brown has been traded to the Arizona Cardinals, per @FieldYates https://t.co/z4UbePeClh\n",
            "Sentiment(polarity=0.0, subjectivity=0.0)\n",
            "Neutral\n",
            "RT @mubi: “I make my pictures for what Hollywood spends on lipstick.”\n",
            "\n",
            "Maya Deren. Born on this day in 1917. https://t.co/B6dCwRYANY\n",
            "Sentiment(polarity=0.0, subjectivity=0.0)\n",
            "Neutral\n",
            "RT @PFF_Fantasy: Kyler Murray and Hollywood Brown already getting that work in 💪 https://t.co/sf3js9zdKe\n",
            "Sentiment(polarity=0.0, subjectivity=0.0)\n",
            "Neutral\n"
          ]
        }
      ]
    },
    {
      "cell_type": "code",
      "source": [
        "print(\"number of positive tweet...\")\n",
        "print(countOfTweet['positive'])\n",
        "\n",
        "print(\"number of negative tweet...\")\n",
        "print(countOfTweet['negative'])\n",
        "\n",
        "print(\"number of neutral tweet...\")\n",
        "print(countOfTweet['neutral'])\n"
      ],
      "metadata": {
        "colab": {
          "base_uri": "https://localhost:8080/"
        },
        "id": "d9V1wK1SlmwA",
        "outputId": "a525b061-9191-497f-a008-8af5f177404b"
      },
      "execution_count": 58,
      "outputs": [
        {
          "output_type": "stream",
          "name": "stdout",
          "text": [
            "number of positive tweet...\n",
            "0\n",
            "number of negative tweet...\n",
            "2\n",
            "number of neutral tweet...\n",
            "8\n"
          ]
        }
      ]
    },
    {
      "cell_type": "code",
      "source": [
        "import matplotlib.pyplot as plt"
      ],
      "metadata": {
        "id": "fdNldpjyfHmJ"
      },
      "execution_count": 59,
      "outputs": []
    },
    {
      "cell_type": "code",
      "source": [
        "# bar chart for tweet\n",
        "plt.title(\"Twitter sentiment\")\n",
        "# bar(keys,values,color)\n",
        "plt.bar(countOfTweet.keys(),countOfTweet.values(),color=['r','g','b'])\n",
        "plt.show()"
      ],
      "metadata": {
        "id": "kGMKBtvGjdlE",
        "colab": {
          "base_uri": "https://localhost:8080/",
          "height": 281
        },
        "outputId": "7a714e1a-49b8-4f2e-9526-acd83a7e1e66"
      },
      "execution_count": 60,
      "outputs": [
        {
          "output_type": "display_data",
          "data": {
            "text/plain": [
              "<Figure size 432x288 with 1 Axes>"
            ],
            "image/png": "[encoded data removed]"
          },
          "metadata": {
            "needs_background": "light"
          }
        }
      ]
    },
    {
      "cell_type": "code",
      "source": [
        "plt.title(\"Twitter sentiment\")\n",
        "# ploting pie chart for tweet\n",
        "# pi(values,labels,autopct)\n",
        "plt.pie(countOfTweet.values(),labels=['positive','negative','neutral'],autopct=\"%1.1f%%\")\n",
        "plt.show()"
      ],
      "metadata": {
        "colab": {
          "base_uri": "https://localhost:8080/",
          "height": 264
        },
        "id": "6I6vt57JhmNW",
        "outputId": "714515b7-1cfb-4330-bcc9-31958a2b9b07"
      },
      "execution_count": 51,
      "outputs": [
        {
          "output_type": "display_data",
          "data": {
            "text/plain": [
              "<Figure size 432x288 with 1 Axes>"
            ],
            "image/png": "[encoded data removed]"
          },
          "metadata": {}
        }
      ]
    },
    {
      "cell_type": "code",
      "source": [
        ""
      ],
      "metadata": {
        "id": "nurY-Kp9sdEL"
      },
      "execution_count": null,
      "outputs": []
    }
  ]
}